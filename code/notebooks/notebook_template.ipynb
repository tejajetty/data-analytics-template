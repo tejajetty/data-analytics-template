{
 "cells": [
  {
   "cell_type": "markdown",
   "id": "7c5dae70-e828-47fc-a8c3-fc9a894c9b5a",
   "metadata": {},
   "source": [
    "# Project name"
   ]
  },
  {
   "cell_type": "markdown",
   "id": "817bfe38-8a23-482a-80d1-1a6d6f40b67c",
   "metadata": {},
   "source": [
    "**Author:** Teja Jetty\n",
    "**Last Modified:** 11-18-2024 (created: 11-13-2024)\n",
    "\n",
    "**Description:** Short paragraph explaining this project."
   ]
  },
  {
   "cell_type": "markdown",
   "id": "7091c3c2-642c-430a-ba8f-a12bdd565f77",
   "metadata": {},
   "source": [
    "<br>"
   ]
  },
  {
   "cell_type": "markdown",
   "id": "5c856b08-9108-4282-9dd1-dc9c93e7c93b",
   "metadata": {},
   "source": [
    "Import libraries:"
   ]
  },
  {
   "cell_type": "code",
   "execution_count": 5,
   "id": "f77e49f5-2c8c-4351-b984-964e55eb68cc",
   "metadata": {},
   "outputs": [],
   "source": [
    "import pandas as pd"
   ]
  },
  {
   "cell_type": "markdown",
   "id": "6e992f22-adcf-41cf-956c-1d29abe01e32",
   "metadata": {},
   "source": [
    "<br>"
   ]
  },
  {
   "cell_type": "markdown",
   "id": "12cae63d-d519-44fd-a5a0-4a021b416550",
   "metadata": {},
   "source": [
    "Load data:"
   ]
  },
  {
   "cell_type": "code",
   "execution_count": 8,
   "id": "b212168e-e7db-49d2-8085-687259212a72",
   "metadata": {},
   "outputs": [],
   "source": [
    "# code to read csv file"
   ]
  }
 ],
 "metadata": {
  "kernelspec": {
   "display_name": "Python 3 (ipykernel)",
   "language": "python",
   "name": "python3"
  },
  "language_info": {
   "codemirror_mode": {
    "name": "ipython",
    "version": 3
   },
   "file_extension": ".py",
   "mimetype": "text/x-python",
   "name": "python",
   "nbconvert_exporter": "python",
   "pygments_lexer": "ipython3",
   "version": "3.12.4"
  }
 },
 "nbformat": 4,
 "nbformat_minor": 5
}
